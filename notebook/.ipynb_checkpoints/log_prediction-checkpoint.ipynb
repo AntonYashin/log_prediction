{
 "cells": [
  {
   "cell_type": "code",
   "execution_count": 1,
   "metadata": {},
   "outputs": [],
   "source": [
    "import numpy as np\n",
    "import pandas as pd\n",
    "import matplotlib.pyplot as plt\n",
    "import os\n",
    "# %matplotlib\n",
    "\n",
    "from sklearn.model_selection import cross_val_score\n",
    "from sklearn.linear_model import LinearRegression\n",
    "from sklearn.preprocessing import PolynomialFeatures\n",
    "from sklearn.pipeline import make_pipeline\n",
    "from sklearn.model_selection import train_test_split"
   ]
  },
  {
   "cell_type": "code",
   "execution_count": 2,
   "metadata": {},
   "outputs": [],
   "source": [
    "def f(x):\n",
    "    \"\"\" function to approximate by polynomial interpolation\"\"\"\n",
    "    return np.sin(x)\n",
    "\n",
    "\n",
    "def poly(x, coef):\n",
    "    \"\"\" function to approximate by polynomial interpolation\"\"\"\n",
    "    return 7\n",
    "\n",
    "\n",
    "def get_attribute(model, X):    \n",
    "    return model.steps[0][1].transform(X)\n",
    "\n",
    "\n",
    "def get_future_name(model):\n",
    "    return model.steps[0][1].get_feature_names()\n",
    "\n",
    "\n",
    "def get_coeff(model):\n",
    "    return model.steps[1][1].coef_\n",
    "\n",
    "\n",
    "def get_intercept(model):\n",
    "    return model.steps[1][1].intercept_\n",
    "\n",
    "def get_data(path, well_number = 1, sep=',', header=None):\n",
    "    abs_path = os.path.abspath('../')\n",
    "    path = os.path.join(abs_path, 'well_log_data', path, path + '.' + str(well_number) + '.csv')\n",
    "    \n",
    "    return pd.read_csv(path, sep=sep, header=header)"
   ]
  },
  {
   "cell_type": "code",
   "execution_count": 20,
   "metadata": {},
   "outputs": [
    {
     "data": {
      "image/png": "[encoded data removed]",
      "text/plain": [
       "<matplotlib.figure.Figure at 0x135fced7160>"
      ]
     },
     "metadata": {},
     "output_type": "display_data"
    },
    {
     "data": {
      "text/plain": [
       "(1501, 1)"
      ]
     },
     "execution_count": 20,
     "metadata": {},
     "output_type": "execute_result"
    }
   ],
   "source": [
    "# 1. Read the data points\n",
    "my_data = pd.read_csv('C:\\\\Users\\\\anton.yashin\\\\log_prediction\\\\well_log_data\\\\Vp.Well.E\\\\Vp.Well.E.1.csv', sep=',',header=None)\n",
    "\n",
    "X = np.array([my_data[0].tolist()]).T\n",
    "X = (X/X.max())[:, 0] [:, np.newaxis]\n",
    "X = X[:, 0]\n",
    "X = X[:, np.newaxis]\n",
    "\n",
    "y = np.array([my_data[1].tolist()]).T\n",
    "y = y/y.max()\n",
    "y = y[:, 0]\n",
    "\n",
    "plt.scatter(X, y, s=1)\n",
    "plt.show()\n",
    "y.tolist()\n",
    "X.shape\n"
   ]
  },
  {
   "cell_type": "markdown",
   "metadata": {},
   "source": [
    "# generate points used to plot\n",
    "x_plot = np.linspace(0, 10, 100)\n",
    "# print(x_plot.shape)\n",
    "\n",
    "# generate points and keep a subset of them\n",
    "x = np.linspace(0, 10, 100)\n",
    "rng = np.random.RandomState(0)\n",
    "rng.shuffle(x)\n",
    "# x = np.sort(x[:80])\n",
    "# x = x/x.max()\n",
    "y = f(x)\n",
    "\n",
    "# create matrix versions of these arrays\n",
    "X = x[:, np.newaxis]\n",
    "\n",
    "plt.scatter(X, y)\n",
    "plt.show()\n",
    "x.shape\n"
   ]
  },
  {
   "cell_type": "code",
   "execution_count": 21,
   "metadata": {},
   "outputs": [],
   "source": [
    "# Split data\n",
    "X_train, X_test, y_train, y_test = train_test_split(X, y, test_size=0.33, random_state=42)"
   ]
  },
  {
   "cell_type": "markdown",
   "metadata": {},
   "source": [
    "model =  LinearRegression()\n",
    "# attr = np.hstack([X_train**0, X_train**3, X_train**8])\n",
    "\n",
    "model.fit(X_train, y_train)\n",
    "\n",
    "coef = model.coef_\n",
    "# print(coef)\n",
    "# print(model.intercept_)\n",
    "decomposition = coef*X_train\n",
    "decomposition += model.intercept_\n",
    "\n",
    "number_of_training_point = X_train.shape[0]\n",
    "number_of_attribute = decomposition.shape[1]\n",
    "\n",
    "y_ = [v.sum() for v in decomposition]\n",
    "\n",
    "plt.scatter(X_train, y_train)\n",
    "plt.scatter(X_train, y_)\n",
    "plt.scatter(X_train, model.predict(X_train))\n",
    "plt.show()\n",
    "\n",
    "print(coef)\n",
    "print(attr[0])\n",
    "print(model.intercept_)\n",
    "print(model.predict(X_train)[0])\n",
    "print(model.predict(X_train)[0] - y_)"
   ]
  },
  {
   "cell_type": "code",
   "execution_count": 54,
   "metadata": {},
   "outputs": [
    {
     "data": {
      "image/png": "[encoded data removed]",
      "text/plain": [
       "<matplotlib.figure.Figure at 0x135fd3d6c18>"
      ]
     },
     "metadata": {},
     "output_type": "display_data"
    },
    {
     "name": "stdout",
     "output_type": "stream",
     "text": [
      "[   0.           -1.86507074   27.42029939 -105.72939996  194.62647729\n",
      " -170.32257397   56.48623346]\n",
      "[1.         0.81533333 0.66476844 0.54200787 0.44191708 0.36030973\n",
      " 0.29377253]\n",
      "0.3338679527591568\n",
      "0.9691850645734592\n",
      "[ 0.          0.59712478  0.05321874 ...  0.13265534  0.0484673\n",
      " -0.00139728]\n"
     ]
    },
    {
     "data": {
      "text/plain": [
       "0.3338679527591568"
      ]
     },
     "execution_count": 54,
     "metadata": {},
     "output_type": "execute_result"
    }
   ],
   "source": [
    "# Searchin attribute\n",
    "degree = 6\n",
    "\n",
    "model = make_pipeline(PolynomialFeatures(degree, interaction_only=False, include_bias=True), LinearRegression(copy_X=True))\n",
    "model.fit(X_train, y_train)\n",
    "\n",
    "coef = get_coeff(model)\n",
    "attr = get_attribute(model, X_train)\n",
    "\n",
    "decomposition = coef*attr\n",
    "# print('1',decomposition)\n",
    "# decomposition += get_intercept(model)\n",
    "# print('2',decomposition)\n",
    "\n",
    "number_of_training_point = X_train.shape[0]\n",
    "number_of_attribute = decomposition.shape[1]\n",
    "\n",
    "y_ = [v.sum() + get_intercept(model) for v in decomposition]\n",
    "\n",
    "plt.scatter(X_train, y_train)\n",
    "plt.scatter(X_train, y_, c='orange')\n",
    "plt.scatter(X_train, model.predict(X_train), c='green')\n",
    "plt.show()\n",
    "\n",
    "print(coef)\n",
    "print(attr[0])\n",
    "print(get_intercept(model))\n",
    "print(model.predict(X_train)[0])\n",
    "print(model.predict(X_train)[0] - y_)\n",
    "get_intercept(model)"
   ]
  },
  {
   "cell_type": "code",
   "execution_count": 55,
   "metadata": {},
   "outputs": [
    {
     "name": "stdout",
     "output_type": "stream",
     "text": [
      "[   0.           -1.86507074   27.42029939 -105.72939996  194.62647729\n",
      " -170.32257397   56.48623346]\n",
      "[1.         0.81533333 0.66476844 0.54200787 0.44191708 0.36030973\n",
      " 0.29377253]\n",
      "0.3338679527591568\n",
      "0.9691850645734592\n"
     ]
    },
    {
     "data": {
      "image/png": "[encoded data removed]",
      "text/plain": [
       "<matplotlib.figure.Figure at 0x135fce13fd0>"
      ]
     },
     "metadata": {},
     "output_type": "display_data"
    }
   ],
   "source": [
    "# Transform test data\n",
    "# x_test = X_test\n",
    "# y_test = f(x_test)\n",
    "\n",
    "# X_test = np.array([X_test[0]])\n",
    "# # X_test = X_test[:, np.newaxis]\n",
    "\n",
    "# y_test = np.array([y_test[0]])\n",
    "# # y_test = y_test[:, np.newaxis]\n",
    "\n",
    "# print(np.array([X_test[0]]))\n",
    "# # print(y_test)\n",
    "\n",
    "number_of_test_point = X_test.shape[0]\n",
    "\n",
    "test_attr = get_attribute(model, X_test)\n",
    "\n",
    "decomposition = coef*test_attr\n",
    "decomposition += get_intercept(model)\n",
    "\n",
    "y__ = [decomposition[v].sum() for v in range(decomposition.shape[0])]\n",
    "\n",
    "print(coef)\n",
    "print(attr[0])\n",
    "print(get_intercept(model))\n",
    "print(model.predict(X_train)[0])\n",
    "# print(model.predict(X_train)[0] - y__)\n",
    "\n",
    "plt.scatter(X_test, y_test)\n",
    "plt.scatter(X_test, model.predict(X_test), c='green')\n",
    "plt.scatter(X_test, y__, c='orange')\n",
    "plt.show()\n"
   ]
  },
  {
   "cell_type": "code",
   "execution_count": 67,
   "metadata": {
    "scrolled": false
   },
   "outputs": [
    {
     "data": {
      "image/png": "[encoded data removed]",
      "text/plain": [
       "<matplotlib.figure.Figure at 0x135fd596dd8>"
      ]
     },
     "metadata": {},
     "output_type": "display_data"
    }
   ],
   "source": [
    "# Training PNN\n",
    "sigma = 0.05\n",
    "\n",
    "_y_ = np.zeros(number_of_test_point)\n",
    "\n",
    "temp_sum = np.zeros(number_of_training_point)\n",
    "\n",
    "for test_point_i in range(number_of_test_point):\n",
    "    numerator = np.zeros(number_of_training_point)\n",
    "    temp_attr = np.zeros(number_of_attribute)\n",
    "    \n",
    "    for training_point_i in range(number_of_training_point-1000):    \n",
    "        for atr_i in range(number_of_attribute):        \n",
    "            temp_attr[atr_i] = (test_attr[test_point_i][atr_i] - attr[training_point_i][atr_i])**2\n",
    "        \n",
    "        temp_sum[training_point_i] = np.exp( -temp_attr.sum() / ( 2*(sigma**2) ) )\n",
    "        numerator[training_point_i] = y_[training_point_i]*temp_sum[training_point_i]\n",
    "     \n",
    "    _y_[test_point_i] = numerator.sum()/temp_sum.sum()\n",
    "\n",
    "# print('y_test     ', y_test)\n",
    "# print('y_predict  ', _y_)\n",
    "\n",
    "# plt.scatter(X, y)\n",
    "# print(_y_)\n",
    "plt.scatter(X_test, y_test, c='green')\n",
    "plt.scatter(X_test, y__, c='blue')\n",
    "plt.scatter(X_test, _y_, c='orange')\n",
    "plt.show()"
   ]
  },
  {
   "cell_type": "code",
   "execution_count": 17,
   "metadata": {
    "scrolled": true
   },
   "outputs": [],
   "source": [
    "# Read and Clean data\n",
    "data = get_data('Vp.Well.E', well_number=1)\n",
    "    \n",
    "X = np.array(data[0].tolist()).T\n",
    "X = X/X.max()\n",
    "X = X[:, np.newaxis]\n",
    "\n",
    "y = np.array(data[1].tolist()).T\n",
    "y = y/y.max()\n",
    "\n",
    "# Split data\n",
    "X_train, X_test, y_train, y_test = train_test_split(X, y, test_size=0.33, random_state=42)"
   ]
  }
 ],
 "metadata": {
  "kernelspec": {
   "display_name": "Python 3",
   "language": "python",
   "name": "python3"
  },
  "language_info": {
   "codemirror_mode": {
    "name": "ipython",
    "version": 3
   },
   "file_extension": ".py",
   "mimetype": "text/x-python",
   "name": "python",
   "nbconvert_exporter": "python",
   "pygments_lexer": "ipython3",
   "version": "3.6.4"
  }
 },
 "nbformat": 4,
 "nbformat_minor": 2
}
