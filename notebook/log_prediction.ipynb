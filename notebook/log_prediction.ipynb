{
 "cells": [
  {
   "cell_type": "code",
   "execution_count": 1,
   "metadata": {},
   "outputs": [],
   "source": [
    "import numpy as np\n",
    "import matplotlib.pyplot as plt\n",
    "from math import exp\n",
    "\n",
    "from sklearn.model_selection import cross_val_score\n",
    "from sklearn.linear_model import LinearRegression\n",
    "from sklearn.preprocessing import PolynomialFeatures\n",
    "from sklearn.pipeline import make_pipeline"
   ]
  },
  {
   "cell_type": "code",
   "execution_count": 2,
   "metadata": {},
   "outputs": [],
   "source": [
    "def f(x):\n",
    "    \"\"\" function to approximate by polynomial interpolation\"\"\"\n",
    "    return x * np.sin(x)\n",
    "\n",
    "\n",
    "def poly(x, coef):\n",
    "    \"\"\" function to approximate by polynomial interpolation\"\"\"\n",
    "    return 7\n",
    "\n",
    "\n",
    "def get_attribute(model, X):    \n",
    "    return model.steps[0][1].transform(X)\n",
    "\n",
    "\n",
    "def get_coeff(model):\n",
    "    return model.steps[1][1].coef_\n",
    "\n",
    "\n",
    "def get_future_name(model):\n",
    "    return model.steps[0][1].get_feature_names()"
   ]
  },
  {
   "cell_type": "code",
   "execution_count": 15,
   "metadata": {},
   "outputs": [
    {
     "name": "stdout",
     "output_type": "stream",
     "text": [
      "(100,)\n",
      "[[  7.59580412e-01]\n",
      " [  1.49693975e-01]\n",
      " [  4.67804735e-01]\n",
      " [  1.20309716e-01]\n",
      " [  7.26273644e-01]\n",
      " [  9.68546295e-01]\n",
      " [  4.81787940e-01]\n",
      " [  9.96017426e-01]\n",
      " [  7.19789120e-01]\n",
      " [  5.98392878e-01]\n",
      " [  9.28208961e-01]\n",
      " [  3.90086028e-01]\n",
      " [  9.20847923e-01]\n",
      " [  8.65385516e-01]\n",
      " [  1.58298327e-01]\n",
      " [  1.14453275e-01]\n",
      " [  7.93533350e-01]\n",
      " [  7.94165461e-01]\n",
      " [  4.14145373e-01]\n",
      " [  7.51687949e-04]\n",
      " [  1.20547015e-01]\n",
      " [  2.38492100e-01]\n",
      " [  2.51019128e-02]\n",
      " [  3.85767084e-02]\n",
      " [  9.34810897e-01]\n",
      " [  7.99886785e-01]\n",
      " [  1.47784565e-01]\n",
      " [  4.59384552e-01]\n",
      " [  4.61713665e-01]\n",
      " [  4.58040967e-01]\n",
      " [  1.76862348e-02]\n",
      " [  7.30162615e-01]\n",
      " [  4.88315732e-01]\n",
      " [  2.79098426e-01]\n",
      " [  6.19339767e-01]\n",
      " [  5.72079419e-01]\n",
      " [  6.04287053e-01]\n",
      " [  1.33305169e-02]\n",
      " [  8.52965764e-01]\n",
      " [  3.14876289e-01]\n",
      " [  5.92312243e-02]\n",
      " [  1.68990047e-01]\n",
      " [  9.28016508e-01]\n",
      " [  1.10246102e-01]\n",
      " [  2.12282601e-01]\n",
      " [  6.10707759e-01]\n",
      " [  4.92730716e-01]\n",
      " [  8.99935434e-01]\n",
      " [  4.30439242e-02]\n",
      " [  8.36140341e-01]\n",
      " [  7.40542433e-01]\n",
      " [  1.17577462e-01]\n",
      " [  1.31662142e-01]\n",
      " [  3.36701743e-01]\n",
      " [  1.44109477e-01]\n",
      " [  1.67800538e-01]\n",
      " [  7.30253478e-01]\n",
      " [  8.16472738e-04]\n",
      " [  5.66078396e-02]\n",
      " [  5.52385805e-01]\n",
      " [  7.97508258e-01]\n",
      " [  4.11031032e-01]\n",
      " [  1.32262657e-01]\n",
      " [  5.79504899e-01]\n",
      " [  3.00757629e-01]\n",
      " [  6.19225729e-01]\n",
      " [  7.44214285e-01]\n",
      " [  1.69895434e-01]\n",
      " [  4.48178153e-01]\n",
      " [  6.30068272e-01]\n",
      " [  6.00625519e-01]\n",
      " [  7.28478868e-01]\n",
      " [  4.44696196e-01]\n",
      " [  5.30890728e-01]\n",
      " [  7.16783822e-01]\n",
      " [  9.32089241e-01]\n",
      " [  8.32679335e-01]\n",
      " [  5.85210174e-01]\n",
      " [  2.29249244e-02]\n",
      " [  1.87244226e-01]\n",
      " [  4.25476599e-01]\n",
      " [  1.18900955e-01]\n",
      " [  7.69503084e-01]\n",
      " [  9.24096027e-02]\n",
      " [  4.91748647e-01]\n",
      " [  3.33620231e-01]\n",
      " [  9.98330176e-02]\n",
      " [  3.39782611e-01]\n",
      " [  3.42619492e-01]\n",
      " [  7.96806718e-01]]\n"
     ]
    }
   ],
   "source": [
    "# generate points used to plot\n",
    "x_plot = np.linspace(0, 10, 100)\n",
    "\n",
    "# generate points and keep a subset of them\n",
    "x = np.linspace(0, 10, 100)\n",
    "x = np.random.sample((100))\n",
    "# x = x/x.max(axis=0)\n",
    "\n",
    "print(x.shape)\n",
    "\n",
    "rng = np.random.RandomState(0)\n",
    "# rng.shuffle(x)\n",
    "x = x[:90]\n",
    "y = f(x)\n",
    "\n",
    "# create matrix versions of these arrays\n",
    "X = x[:, np.newaxis]\n",
    "print(X)\n",
    "\n",
    "# X_plot = X_plot/X_plot.max(axis=0)\n",
    "# # print(X_plot)\n",
    "# x_test = x_test[:, np.newaxis]\n",
    "# y_test = f(x_test)\n",
    "# print(y_test)"
   ]
  },
  {
   "cell_type": "code",
   "execution_count": 23,
   "metadata": {},
   "outputs": [
    {
     "name": "stdout",
     "output_type": "stream",
     "text": [
      "[0.52306017570597341, 0.022324691201272829, 0.21094623827271894, 0.014439534815507667, 0.48230977561187327, 0.7981432268372558, 0.22324334602173551, 0.83596989887598561, 0.47450378639442697, 0.3370838809094156, 0.74307574567404033, 0.14833722684433506, 0.73310086529390162, 0.6588571680059192, 0.024953837554143619, 0.01307097099927977, 0.56565895252687848, 0.5664614998602947, 0.16665528678028954, 5.6502389115676033e-07, 0.014496413761072901, 0.056340819407138365, 0.00063003966803879365, 0.001487793155336227, 0.75204299931174734, 0.57374056075630853, 0.021760864766610873, 0.20368952475186014, 0.2056855831400628, 0.2025419867635613, 0.00031278643066422353, 0.48701174900534339, 0.22908802028863826, 0.076888566892931887, 0.3595253010493632, 0.3097132396984304, 0.34334111691979147, 0.0001776972782640023, 0.64248319977231561, 0.097516822609580306, 0.0035062867246206638, 0.028421906552966, 0.74281463446900298, 0.012129597133491021, 0.044726205079238503, 0.35020879465088844, 0.23307815047220271, 0.70490752191258454, 0.0018522071416194707, 0.62046747210278985, 0.49963537571532773, 0.013792628803002742, 0.017284879636127501, 0.11123812007999455, 0.020695734039264214, 0.028025070035530175, 0.4871217891176578, 6.6661591573651889e-07, 0.0032027362031927368, 0.28984771216972732, 0.57071114674520673, 0.16422937954246369, 0.017442451617831634, 0.31734252508775951, 0.08909761640636106, 0.35940160017521111, 0.50412631431244437, 0.028725799207502546, 0.19420650087523067, 0.37123617643324414, 0.33944869319811222, 0.48497413841254522, 0.19130103003299606, 0.26879086025358956, 0.4709006829807269, 0.74834388761551041, 0.61596366220661891, 0.32325523242379423, 0.00052550594154245013, 0.0348558869724028, 0.17561756591800939, 0.014104149480430398, 0.5354036332641452, 0.0085273858363775022, 0.23218800268089171, 0.10924921195956915, 0.0099500839457586868, 0.11324347574540142, 0.11510489723074016, 0.56981852081326678]\n"
     ]
    }
   ],
   "source": [
    "# Searchin attribute\n",
    "degree = 8\n",
    "\n",
    "model = make_pipeline(PolynomialFeatures(degree), LinearRegression())\n",
    "model.fit(X, y)\n",
    "\n",
    "coef = get_coeff(model)\n",
    "attr = get_attribute(model, X)\n",
    "\n",
    "decomposition = coef*attr\n",
    "\n",
    "number_of_training_point = decomposition.shape[0]\n",
    "number_of_attribute = decomposition.shape[1]\n",
    "\n",
    "y_ = [v.sum() for v in decomposition]\n",
    "print(y_)\n",
    "# print(y)"
   ]
  },
  {
   "cell_type": "code",
   "execution_count": 24,
   "metadata": {},
   "outputs": [],
   "source": [
    "# Transform test data\n",
    "x_test = x[10]\n",
    "y_test = f(x_test)\n",
    "\n",
    "test_attr = get_attribute(model, x_test)\n",
    "# test_attr[0][1]\n",
    "\n",
    "# dec = coef*test_attr\n",
    "# print(dec.shape)\n",
    "# y__ = [dec[v].sum() for v in range(dec.shape[0])]\n",
    "# y__"
   ]
  },
  {
   "cell_type": "code",
   "execution_count": 25,
   "metadata": {},
   "outputs": [
    {
     "name": "stdout",
     "output_type": "stream",
     "text": [
      "y_test      0.743075745751\n",
      "y_predict   0.500905846588\n"
     ]
    },
    {
     "data": {
      "image/png": "[encoded data removed]",
      "text/plain": [
       "<matplotlib.figure.Figure at 0x14fda1a198>"
      ]
     },
     "metadata": {},
     "output_type": "display_data"
    }
   ],
   "source": [
    "# Training PNN\n",
    "sigma = 0.9\n",
    "\n",
    "temp_sum = np.zeros(number_of_training_point)\n",
    "numerator = np.zeros(number_of_training_point)\n",
    "\n",
    "for tp_i in range(number_of_training_point):\n",
    "    temp_attr = np.zeros(number_of_attribute)\n",
    "    \n",
    "    for atr_i in range(number_of_attribute):        \n",
    "        temp_attr[atr_i] = (test_attr[0][atr_i] - attr[tp_i][atr_i])**2\n",
    "        \n",
    "    temp_sum[tp_i] = exp( -temp_attr.sum() / ( 2*(sigma**2) ) )\n",
    "#     print(temp_sum)\n",
    "    numerator[tp_i] = y_[tp_i]*temp_sum[tp_i]\n",
    "    \n",
    "_y_ = numerator.sum()/temp_sum.sum()\n",
    "\n",
    "print('y_test     ', y_test)\n",
    "print('y_predict  ', _y_)\n",
    "\n",
    "# plt.scatter(X, y)\n",
    "plt.scatter(X, y_)\n",
    "plt.scatter(x_test, _y_)\n",
    "plt.show()"
   ]
  },
  {
   "cell_type": "code",
   "execution_count": 26,
   "metadata": {},
   "outputs": [
    {
     "data": {
      "image/png": "[encoded data removed]",
      "text/plain": [
       "<matplotlib.figure.Figure at 0x14fd96e470>"
      ]
     },
     "metadata": {},
     "output_type": "display_data"
    }
   ],
   "source": [
    "plt.scatter(X, y)\n",
    "# plt.plot(X, y_)\n",
    "# plt.scatter(x_test, _y_)\n",
    "plt.show()"
   ]
  },
  {
   "cell_type": "code",
   "execution_count": null,
   "metadata": {},
   "outputs": [],
   "source": [
    "t_a = np.zeros(number_of_attribute)\n",
    "\n",
    "# t_a = t_a**2\n",
    "# t_a.sum()\n",
    "t_a.shape"
   ]
  },
  {
   "cell_type": "code",
   "execution_count": null,
   "metadata": {},
   "outputs": [],
   "source": []
  }
 ],
 "metadata": {
  "kernelspec": {
   "display_name": "Python 3",
   "language": "python",
   "name": "python3"
  },
  "language_info": {
   "codemirror_mode": {
    "name": "ipython",
    "version": 3
   },
   "file_extension": ".py",
   "mimetype": "text/x-python",
   "name": "python",
   "nbconvert_exporter": "python",
   "pygments_lexer": "ipython3",
   "version": "3.6.3"
  }
 },
 "nbformat": 4,
 "nbformat_minor": 2
}
