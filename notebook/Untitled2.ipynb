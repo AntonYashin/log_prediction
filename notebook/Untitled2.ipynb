{
 "cells": [
  {
   "cell_type": "code",
   "execution_count": 6,
   "metadata": {},
   "outputs": [],
   "source": [
    "# 0. import the needed packages\n",
    "import numpy as np\n",
    "import pandas as pd\n",
    "from numpy import genfromtxt\n",
    "import matplotlib.pyplot as plt\n",
    "from sklearn.preprocessing import normalize"
   ]
  },
  {
   "cell_type": "code",
   "execution_count": 7,
   "metadata": {},
   "outputs": [
    {
     "name": "stdout",
     "output_type": "stream",
     "text": [
      "   Class  Feature 1  Feature 2\n",
      "0      1        0.5        0.9\n",
      "1      1        0.2        0.7\n",
      "2      2        0.8        0.8\n",
      "3      2        0.4        0.5\n",
      "4      3        0.8        0.5\n",
      "5      3        0.6        0.3\n",
      "6      3        0.3        0.2\n",
      "[[0.5 0.9]\n",
      " [0.2 0.7]\n",
      " [0.8 0.8]\n",
      " [0.4 0.5]\n",
      " [0.8 0.5]\n",
      " [0.6 0.3]\n",
      " [0.3 0.2]]\n"
     ]
    }
   ],
   "source": [
    "# 1. Read the data points\n",
    "my_data = pd.read_csv('Simple_data_points_for_PNN.csv', sep=';',header=0)\n",
    "cleaned_data = np.array([ my_data['Feature 1'].tolist(),my_data['Feature 2'].tolist()]).T\n",
    "\n",
    "print(my_data)\n",
    "print(cleaned_data)"
   ]
  },
  {
   "cell_type": "code",
   "execution_count": 8,
   "metadata": {},
   "outputs": [],
   "source": [
    "# 2. Declare the needed variable \n",
    "groups = my_data.groupby('Class')\n",
    "number_of_classes = len(groups)  # Here we have 3 different classes\n",
    "dictionary_of_sum = {}\n",
    "numrber_of_features  = 2 # We have feature 1 and feature 2 \n",
    "\n"
   ]
  },
  {
   "cell_type": "code",
   "execution_count": null,
   "metadata": {},
   "outputs": [],
   "source": []
  },
  {
   "cell_type": "code",
   "execution_count": 32,
   "metadata": {},
   "outputs": [
    {
     "data": {
      "image/png": "[encoded data removed]",
      "text/plain": [
       "<matplotlib.figure.Figure at 0x14e47e51550>"
      ]
     },
     "metadata": {},
     "output_type": "display_data"
    }
   ],
   "source": [
    "# **INPUT LAYER OF THE PNN **\n",
    "increament_current_row_in_matrix = 0\n",
    "sigma = 1\n",
    "# 3. Define the point that we wish to classifiy - Clearly it is Red \n",
    "point_want_to_classify = [0.5,0.4]\n",
    "\n",
    "# 4. Loop via number of classes \n",
    "for k in range(1,number_of_classes+1):\n",
    "\n",
    "\t# 4.1 Initiate the sume to zero \n",
    "\tdictionary_of_sum[k] = 0\n",
    "\tnumber_of_data_point_from_class_k = len(groups.get_group(k))\n",
    "\n",
    "\t# ** PATTERN LAYER OF PNN **\n",
    "\t# 5. Loop via the number of training example in class i \n",
    "\t# 5.1 - Declare a temporary variable to hold the sum of gaussian distribution sum\n",
    "\ttemp_summnation = 0.0\n",
    "\n",
    "\t# 6. Loop via number of points in the class - NUMBER OF POINTS IN THE CLASS!\n",
    "\tfor i in range(1,number_of_data_point_from_class_k+1):\n",
    "\n",
    "\t\t# 6.1 - Implementation of getting Gaussians \n",
    "\t\ttempx = (point_want_to_classify[0] - cleaned_data[increament_current_row_in_matrix][0]) * (point_want_to_classify[0] - cleaned_data[increament_current_row_in_matrix][0]) \n",
    "\t\ttempy = (point_want_to_classify[1] - cleaned_data[increament_current_row_in_matrix][1]) * (point_want_to_classify[1] - cleaned_data[increament_current_row_in_matrix][1]) \n",
    "\t\ttemp_sum = -1 * (tempx + tempy)\n",
    "\t\ttemp_sum = temp_sum/( 2 * np.power(sigma,2) )\n",
    "\n",
    "\t\t# 6.2 - Implementation of Sum of Gaussians\n",
    "\t\ttemp_summnation = temp_summnation + temp_sum\n",
    "\n",
    "\t\t# 6.3 - Increamenting the row of the matrix to get the next data point\n",
    "\t\tincreament_current_row_in_matrix  = increament_current_row_in_matrix + 1\n",
    "\n",
    "\t# 7. Finally - For K class - the Probability of current data point belonging to that class\n",
    "\tdictionary_of_sum[k]  = temp_summnation \n",
    "\n",
    "# 8. Get the classified class \n",
    "classified_class = str( max(dictionary_of_sum, key=dictionary_of_sum.get) )\n",
    "\n",
    "# 9. Group the data by class \n",
    "groups = my_data.groupby('Class')\n",
    "\n",
    "# Drawing the graph\n",
    "fig, ax = plt.subplots()\n",
    "ax.margins(0.05) # Optional, just adds 5% padding to the autoscaling\n",
    "for name, group in groups:\n",
    "    ax.plot(group['Feature 1'], group['Feature 2'], marker='o', linestyle='', ms=12, label=name)\n",
    "\n",
    "# Draw the unclassified data point \n",
    "ax.plot(point_want_to_classify[0], point_want_to_classify[1], marker='o', linestyle='', ms=12)\n",
    "\n",
    "# Setting the limit of x and y axis\n",
    "axes = plt.gca()\n",
    "axes.set_xlim([0,1])\n",
    "axes.set_ylim([0,1])\n",
    "plt.title('Classified as : ' + str(classified_class) )\n",
    "plt.xlabel('X')\n",
    "plt.ylabel('Y')\n",
    "\n",
    "# Giving a grid and show the plot\n",
    "plt.grid()\n",
    "plt.show()\n",
    "\n",
    "# ---- END OF THE CODE ------"
   ]
  }
 ],
 "metadata": {
  "kernelspec": {
   "display_name": "Python 3",
   "language": "python",
   "name": "python3"
  },
  "language_info": {
   "codemirror_mode": {
    "name": "ipython",
    "version": 3
   },
   "file_extension": ".py",
   "mimetype": "text/x-python",
   "name": "python",
   "nbconvert_exporter": "python",
   "pygments_lexer": "ipython3",
   "version": "3.6.4"
  }
 },
 "nbformat": 4,
 "nbformat_minor": 2
}
